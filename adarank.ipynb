{
 "cells": [
  {
   "cell_type": "code",
   "execution_count": null,
   "metadata": {},
   "outputs": [],
   "source": [
    "import numpy as np\n",
    "from sklearn.metrics import ndcg_score "
   ]
  },
  {
   "cell_type": "code",
   "execution_count": null,
   "metadata": {},
   "outputs": [],
   "source": [
    "class AdaRank():\n",
    "    def __init__(self, k = 10, E = ndcg_score, n_iterations = 1000, ):\n",
    "        self.n_iterations = n_iterations\n",
    "        self.E = E\n",
    "        self.k = k\n",
    "        self.weights = None\n",
    "        self.weak_ranks = []\n",
    "        self.alphas = []\n",
    "    \n",
    "    def fit(self, X, y, qid):\n",
    "        \n",
    "        n_queries = np.unique(qid).shape[0]\n",
    "        self.weights = np.ones(n_queries /n_queries)\n",
    "        \n",
    "        for i in range(self.n_iterations):\n",
    "            \n",
    "            # weak rank\n",
    "            # h_predictions = []\n",
    "            # for i, x in enumerate(X):\n",
    "            #     h_prediction = self._weak_rank(x)\n",
    "            #     h_predictions.append(h_prediction)\n",
    "            \n",
    "            h_predictions = self._weak_rank(X)\n",
    "            \n",
    "            # h_predictions = weak_ranker(q, d, weights)\n",
    "            h_score = self.E(y, h_predictions, k = self.k)\n",
    "            \n",
    "            # Choose alpha t\n",
    "            alpha = 0.5 * np.log((weights * (1 + h_score)) / (1 - h_score))\n",
    "            self.alphas.append(alpha)\n",
    "            \n",
    "            # f_predictions = []\n",
    "            # for i, x in enumerate(X):\n",
    "            #     f_prediction = np.sum(self.alphas * self.weak_ranks[:,i])\n",
    "            #     f_predictions.append(f_prediction)\n",
    "            \n",
    "            f_predictions = np.sum(self.alphas * self.weak_ranks, axis = 0)\n",
    "            \n",
    "            # update P t+1\n",
    "            f_score = self.E(y, f_predictions, k = self.k)\n",
    "            weights = np.exp(-f_score) / np.exp(np.sum(-f_score))\n",
    "    \n",
    "    def _weak_rank(self,X):\n",
    "        \"\"\"Create weak ranker ht with weighted distribution Pt on training data\"\"\"\n",
    "        \n",
    "        # Calculate the probabilities of selecting each query based on the current weights\n",
    "        query_probabilities = self.weights / np.sum(self.weights)\n",
    "        \n",
    "        #TODO: CREATE WEAK RANKER\n",
    "        \n",
    "        pass\n",
    "            "
   ]
  },
  {
   "cell_type": "code",
   "execution_count": 4,
   "metadata": {},
   "outputs": [
    {
     "data": {
      "text/plain": [
       "0.4280562600295606"
      ]
     },
     "execution_count": 4,
     "metadata": {},
     "output_type": "execute_result"
    }
   ],
   "source": [
    "import numpy as np\n",
    "from sklearn.metrics import ndcg_score\n",
    "# we have groud-truth relevance of some answers to a query:\n",
    "true_relevance = np.asarray([[10, 0, 0, 1, 5]])\n",
    "# we predict some scores (relevance) for the answers\n",
    "scores = np.asarray([[.1, .2, .3, 4, 70]])\n",
    "ndcg_score(true_relevance, scores, k = 2)"
   ]
  },
  {
   "cell_type": "code",
   "execution_count": 8,
   "metadata": {},
   "outputs": [
    {
     "ename": "ValueError",
     "evalue": "all the input arrays must have same number of dimensions, but the array at index 0 has 2 dimension(s) and the array at index 1 has 3 dimension(s)",
     "output_type": "error",
     "traceback": [
      "\u001b[0;31m---------------------------------------------------------------------------\u001b[0m",
      "\u001b[0;31mValueError\u001b[0m                                Traceback (most recent call last)",
      "\u001b[1;32m/Users/lorenzoleuzzi/Documents/GitHub/BioInformatics-AdaRank/adarank.ipynb Cell 4\u001b[0m line \u001b[0;36m3\n\u001b[1;32m      <a href='vscode-notebook-cell:/Users/lorenzoleuzzi/Documents/GitHub/BioInformatics-AdaRank/adarank.ipynb#W3sZmlsZQ%3D%3D?line=0'>1</a>\u001b[0m q \u001b[39m=\u001b[39m np\u001b[39m.\u001b[39masarray([[\u001b[39m1\u001b[39m, \u001b[39m2\u001b[39m, \u001b[39m3\u001b[39m], [\u001b[39m4\u001b[39m, \u001b[39m5\u001b[39m, \u001b[39m6\u001b[39m]])\n\u001b[1;32m      <a href='vscode-notebook-cell:/Users/lorenzoleuzzi/Documents/GitHub/BioInformatics-AdaRank/adarank.ipynb#W3sZmlsZQ%3D%3D?line=1'>2</a>\u001b[0m d \u001b[39m=\u001b[39m np\u001b[39m.\u001b[39masarray([[[\u001b[39m7\u001b[39m, \u001b[39m8\u001b[39m, \u001b[39m9\u001b[39m],[\u001b[39m1\u001b[39m, \u001b[39m2\u001b[39m, \u001b[39m3\u001b[39m],[\u001b[39m3\u001b[39m,\u001b[39m4\u001b[39m,\u001b[39m5\u001b[39m]], [[\u001b[39m10\u001b[39m, \u001b[39m11\u001b[39m, \u001b[39m12\u001b[39m],[\u001b[39m1\u001b[39m, \u001b[39m2\u001b[39m, \u001b[39m3\u001b[39m],[\u001b[39m3\u001b[39m,\u001b[39m4\u001b[39m,\u001b[39m5\u001b[39m]]])\n\u001b[0;32m----> <a href='vscode-notebook-cell:/Users/lorenzoleuzzi/Documents/GitHub/BioInformatics-AdaRank/adarank.ipynb#W3sZmlsZQ%3D%3D?line=2'>3</a>\u001b[0m X \u001b[39m=\u001b[39m np\u001b[39m.\u001b[39;49mconcatenate((q, d), axis \u001b[39m=\u001b[39;49m \u001b[39m1\u001b[39;49m) \u001b[39m# TODO check \u001b[39;00m\n\u001b[1;32m      <a href='vscode-notebook-cell:/Users/lorenzoleuzzi/Documents/GitHub/BioInformatics-AdaRank/adarank.ipynb#W3sZmlsZQ%3D%3D?line=4'>5</a>\u001b[0m q \u001b[39m=\u001b[39m np\u001b[39m.\u001b[39masarray([[\u001b[39m1\u001b[39m, \u001b[39m2\u001b[39m, \u001b[39m3\u001b[39m], [\u001b[39m4\u001b[39m, \u001b[39m5\u001b[39m, \u001b[39m6\u001b[39m]])\n\u001b[1;32m      <a href='vscode-notebook-cell:/Users/lorenzoleuzzi/Documents/GitHub/BioInformatics-AdaRank/adarank.ipynb#W3sZmlsZQ%3D%3D?line=5'>6</a>\u001b[0m d \u001b[39m=\u001b[39m np\u001b[39m.\u001b[39masarray([[[\u001b[39m7\u001b[39m, \u001b[39m8\u001b[39m, \u001b[39m9\u001b[39m],[\u001b[39m1\u001b[39m, \u001b[39m2\u001b[39m, \u001b[39m3\u001b[39m],[\u001b[39m3\u001b[39m,\u001b[39m4\u001b[39m,\u001b[39m5\u001b[39m]], [[\u001b[39m10\u001b[39m, \u001b[39m11\u001b[39m, \u001b[39m12\u001b[39m],[\u001b[39m1\u001b[39m, \u001b[39m2\u001b[39m, \u001b[39m3\u001b[39m],[\u001b[39m3\u001b[39m,\u001b[39m4\u001b[39m,\u001b[39m5\u001b[39m]]])\n",
      "File \u001b[0;32m<__array_function__ internals>:180\u001b[0m, in \u001b[0;36mconcatenate\u001b[0;34m(*args, **kwargs)\u001b[0m\n",
      "\u001b[0;31mValueError\u001b[0m: all the input arrays must have same number of dimensions, but the array at index 0 has 2 dimension(s) and the array at index 1 has 3 dimension(s)"
     ]
    }
   ],
   "source": [
    "q = np.asarray([[1, 2, 3], [4, 5, 6]])\n",
    "d = np.asarray([[[7, 8, 9],[1, 2, 3],[3,4,5]], [[10, 11, 12],[1, 2, 3],[3,4,5]]])\n",
    "X = np.concatenate((q, d), axis = 1) # TODO check \n",
    "\n",
    "q = np.asarray([[1, 2, 3], [4, 5, 6]])\n",
    "d = np.asarray([[[7, 8, 9],[1, 2, 3],[3,4,5]], [[10, 11, 12],[1, 2, 3],[3,4,5]]])\n",
    "r = np.asarray([1,2,3])"
   ]
  }
 ],
 "metadata": {
  "kernelspec": {
   "display_name": "Python 3",
   "language": "python",
   "name": "python3"
  },
  "language_info": {
   "codemirror_mode": {
    "name": "ipython",
    "version": 3
   },
   "file_extension": ".py",
   "mimetype": "text/x-python",
   "name": "python",
   "nbconvert_exporter": "python",
   "pygments_lexer": "ipython3",
   "version": "3.10.7"
  }
 },
 "nbformat": 4,
 "nbformat_minor": 2
}
